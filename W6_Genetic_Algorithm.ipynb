{
  "nbformat": 4,
  "nbformat_minor": 0,
  "metadata": {
    "colab": {
      "name": "W6-Genetic Algorithm.ipynb",
      "provenance": [],
      "collapsed_sections": [],
      "authorship_tag": "ABX9TyNMU8SffQuBL1DU39A2S2Dx",
      "include_colab_link": true
    },
    "kernelspec": {
      "name": "python3",
      "display_name": "Python 3"
    },
    "language_info": {
      "name": "python"
    }
  },
  "cells": [
    {
      "cell_type": "markdown",
      "metadata": {
        "id": "view-in-github",
        "colab_type": "text"
      },
      "source": [
        "<a href=\"https://colab.research.google.com/github/sololzano/2021-Python-Optimization-Lab/blob/main/W6_Genetic_Algorithm.ipynb\" target=\"_parent\"><img src=\"https://colab.research.google.com/assets/colab-badge.svg\" alt=\"Open In Colab\"/></a>"
      ]
    },
    {
      "cell_type": "markdown",
      "source": [
        "# Genetic Algorithm"
      ],
      "metadata": {
        "id": "OfQ4OBY3MG1T"
      }
    },
    {
      "cell_type": "code",
      "execution_count": null,
      "metadata": {
        "id": "SZaTuS_YMEYi"
      },
      "outputs": [],
      "source": [
        "# Import libraries\n",
        "from matplotlib import pyplot as plt\n",
        "import numpy as np\n",
        "import time"
      ]
    },
    {
      "cell_type": "code",
      "source": [
        "# Six Hump Camel Function\n",
        "def binary_camel(x, encoding, x_min):\n",
        "  # From binary encoding to real number\n",
        "  new_x = np.array([[int(c, 2) for c in y] for y in x])\n",
        "  X = (new_x * encoding) + x_min\n",
        "  x1, x2 = X[:, 0], X[:, 1]\n",
        "  print(x1, x2)\n",
        "  # Same\n",
        "  a = (4 - 2.1*x1**2 + (1/3)*x1**4)*x1**2\n",
        "  b = x1*x2\n",
        "  c = (-4 + 4*x2**2)*x2**2\n",
        "  return a + b +c"
      ],
      "metadata": {
        "id": "k-3cRcKDXr1F"
      },
      "execution_count": null,
      "outputs": []
    },
    {
      "cell_type": "code",
      "source": [
        "# Adjiman's Benchmark Function \n",
        "def adjiman(x, encoding, x_min):\n",
        "  # From binary encoding to real number\n",
        "  new_x = np.array([[int(c, 2) for c in y] for y in x])\n",
        "  X = (new_x * encoding) + x_min\n",
        "  x1, x2 = X[:, 0], X[:, 1]\n",
        "  a = np.cos(x1) * np.sin(x2)\n",
        "  b = x1 / (x2**2 + 1)\n",
        "  return (a - b)"
      ],
      "metadata": {
        "id": "oPxyet9lXudh"
      },
      "execution_count": null,
      "outputs": []
    },
    {
      "cell_type": "code",
      "source": [
        "def init_population(pop_size, dimensions, precision, x_min, x_max):\n",
        "  \n",
        "  return 0"
      ],
      "metadata": {
        "id": "TAkeVB89MJEc"
      },
      "execution_count": null,
      "outputs": []
    },
    {
      "cell_type": "code",
      "source": [
        "def selection_mechanism(fitness, kind):\n",
        "  if kind == 'random':\n",
        "    return 0\n",
        "  if kind == 'tournament':\n",
        "    return 0"
      ],
      "metadata": {
        "id": "OtiDHLvlRB0g"
      },
      "execution_count": null,
      "outputs": []
    },
    {
      "cell_type": "code",
      "source": [
        "def crossover(parents, parents_fitness pc, kind):\n",
        "  if kind == 'single_point':\n",
        "    pass\n",
        "  if kind == 'double_point':\n",
        "    pass\n",
        "  return parents, parents_fitness"
      ],
      "metadata": {
        "id": "bO-lOzmaR0ph"
      },
      "execution_count": null,
      "outputs": []
    },
    {
      "cell_type": "code",
      "source": [
        "def mutation(children, children_fitness, pm, kind):\n",
        "  if kind == 'bit_flip':\n",
        "    pass\n",
        "  if kind == 'substring_swap':\n",
        "    pass\n",
        "  return children, children_fitness"
      ],
      "metadata": {
        "id": "nfUDvtDnR33Q"
      },
      "execution_count": null,
      "outputs": []
    },
    {
      "cell_type": "code",
      "source": [
        "def maintenance_mechanism(parents, children, parents_fitness, \n",
        "                          children_fitness, kind):\n",
        "  if kind == 'replacement':\n",
        "    return 0\n",
        "  if kind == 'fittest':\n",
        "    return 0"
      ],
      "metadata": {
        "id": "s1szmLiWTvwe"
      },
      "execution_count": null,
      "outputs": []
    },
    {
      "cell_type": "code",
      "source": [
        "def genetic_algorithm(fitness_function, pop_size, dimensions, precision, \n",
        "                      x_min, x_max, max_generations, selection_kind, \n",
        "                      crossover_kind, mutation_kind, maintenance_kind, pc, pm):\n",
        "  \n",
        "  # Initial population\n",
        "  x, fx, gb, encoding = init_population(pop_size, dimensions, \n",
        "                                        precision, x_min, x_max)\n",
        "  gb_array = []\n",
        "  fb_array = []\n",
        "  gb_array.append(gb)\n",
        "  for i in range(1, max_generations + 1):\n",
        "    new_generation = []\n",
        "    new_fitness = []\n",
        "    for j in range(pop_size // 2):\n",
        "      # Get two potential parents\n",
        "      idx_parents = selection_mechanism(fx, selection_kind)\n",
        "      parents = np.copy(x[idx_parents])\n",
        "      parents_fitness = np.copy(f[idx_parents])\n",
        "\n",
        "      # Cross parents to generate two children\n",
        "      children, ch_fit = crossover(parents, parents_fitness pc, crossover_kind)\n",
        "\n",
        "      # Mutate children\n",
        "      children, ch_fit = mutation(children, ch_fit, pm, mutation_kind)\n",
        "      new_generation.append(np.array(children))\n",
        "      new_fitness.append(np.array(ch_fit))\n",
        "\n",
        "    # Re-shape new generation and respective fitness\n",
        "    new_generation = np.reshape(new_generation, x.shape)\n",
        "    new_fitness = np.reshape(new_fitness, fx.shape)\n",
        "\n",
        "    # Maintenance mechanism\n",
        "    x, fx = maintenance_mechanism(parents, new_generation, fx, \n",
        "                                  new_fitness, maintenance_kind)\n",
        "    min_idx = np.argmin(fx)\n",
        "    gb_array.append(x[min_idx])\n",
        "    fb_array.append(fx[min_idx])\n",
        "  return gb_array, fb_array"
      ],
      "metadata": {
        "id": "HT5m2nJxUly2"
      },
      "execution_count": null,
      "outputs": []
    },
    {
      "cell_type": "code",
      "source": [
        ""
      ],
      "metadata": {
        "id": "_OxljKcWYDYu"
      },
      "execution_count": null,
      "outputs": []
    }
  ]
}