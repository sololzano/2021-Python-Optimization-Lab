{
  "nbformat": 4,
  "nbformat_minor": 0,
  "metadata": {
    "colab": {
      "name": "Copy of W3_NumPy_PyPlot.ipynb",
      "provenance": [],
      "collapsed_sections": [],
      "authorship_tag": "ABX9TyNvZ1MvL7kl+g+cCLPS+eXK",
      "include_colab_link": true
    },
    "kernelspec": {
      "name": "python3",
      "display_name": "Python 3"
    },
    "language_info": {
      "name": "python"
    }
  },
  "cells": [
    {
      "cell_type": "markdown",
      "metadata": {
        "id": "view-in-github",
        "colab_type": "text"
      },
      "source": [
        "<a href=\"https://colab.research.google.com/github/sololzano/2021-Python-Optimization-Lab/blob/main/W4_PyPlot_Files_PSO.ipynb\" target=\"_parent\"><img src=\"https://colab.research.google.com/assets/colab-badge.svg\" alt=\"Open In Colab\"/></a>"
      ]
    },
    {
      "cell_type": "markdown",
      "metadata": {
        "id": "RiayCeFY4M_c"
      },
      "source": [
        "# NumPy and PyPlot"
      ]
    },
    {
      "cell_type": "code",
      "source": [
        "# Import libraries\n",
        "from matplotlib import pyplot as plt\n",
        "import numpy as np\n",
        "import time"
      ],
      "metadata": {
        "id": "cban-FSBQJgH"
      },
      "execution_count": null,
      "outputs": []
    },
    {
      "cell_type": "code",
      "metadata": {
        "id": "Xb6wmuP47RE4"
      },
      "source": [
        "# Six Hump Camel Function\n",
        "def six_hump_camel(x1, x2):\n",
        "    a = (4 - 2.1*x1**2 + (1/3)*x1**4)*x1**2\n",
        "    b = x1*x2\n",
        "    c = (-4 + 4*x2**2)*x2**2\n",
        "    return a + b +c"
      ],
      "execution_count": null,
      "outputs": []
    },
    {
      "cell_type": "code",
      "source": [
        "# Adjiman's Benchmark Function\n",
        "def adjiman(x1, x2):\n",
        "  a = np.cos(x1) * np.sin(x2)\n",
        "  b = x1 / (x2**2 + 1)\n",
        "  return (a - b)"
      ],
      "metadata": {
        "id": "B-__vv1ySZIZ"
      },
      "execution_count": null,
      "outputs": []
    },
    {
      "cell_type": "code",
      "metadata": {
        "id": "Y7DD6l5rTi4S"
      },
      "source": [
        "def init_population(objective_function, dimensions, pop_size, x_min, x_max, v_max):\n",
        "  # Particles\n",
        "  x = np.random.uniform(x_min, x_max, (pop_size, dimensions))\n",
        "  \n",
        "  # Velocity\n",
        "  v = np.random.uniform(-v_max/3, v_max/3, (pop_size, dimensions))\n",
        "  \n",
        "  # Particle's best\n",
        "  pb = np.copy(x)\n",
        "\n",
        "  # Objective function\n",
        "  f = objective_function(x[:, 0], x[:, 1])\n",
        "  \n",
        "  # Best index\n",
        "  gb_idx = np.argmin(f)\n",
        "  \n",
        "  # Global best\n",
        "  gb = np.copy(x[gb_idx])\n",
        "\n",
        "  return x, v, pb, f, gb, gb_idx"
      ],
      "execution_count": null,
      "outputs": []
    },
    {
      "cell_type": "code",
      "source": [
        "def init_population_for(objective_function, dimensions, pop_size, x_min, x_max, v_max):\n",
        "\n",
        "  # Define Particles, Velocities and Particles' best\n",
        "  x = np.zeros((pop_size, dimensions))\n",
        "  v = np.zeros((pop_size, dimensions))\n",
        "  pb = np.zeros((pop_size, dimensions))\n",
        "\n",
        "  # Assign random numbers to Particles and Velocities\n",
        "  for i in range(pop_size):\n",
        "    for j in range(dimensions):\n",
        "      x[i][j] = np.random.uniform(x_min, x_max)\n",
        "      v[i][j] = np.random.uniform(-v_max/3, v_max/3)\n",
        "    # Copy Particles to Particles' best\n",
        "    pb[i] = x[i]\n",
        "  \n",
        "  # Define global best as first particle and calculate objective\n",
        "  gb = pb[0]\n",
        "  fgb = objective_function(gb[0], gb[1])\n",
        "  gb_idx = 0\n",
        "\n",
        "  # Iterate through population\n",
        "  for i in range(pop_size):\n",
        "    # Calculate particle's i best objective function \n",
        "    fpb = objective_function(pb[i][0], pb[i][1])\n",
        "    if fpb < fgb:\n",
        "      gb = pb[i]\n",
        "      fgb = fpb\n",
        "      gb_idx = i\n",
        "  return x, v, pb, gb, gb_idx"
      ],
      "metadata": {
        "id": "LmeXrxu_qChv"
      },
      "execution_count": null,
      "outputs": []
    },
    {
      "cell_type": "code",
      "source": [
        "# Generate initial population with for loop\n",
        "x, v, pb, gb, gb_idx = init_population_for(six_hump_camel, 2, 5, -3, 3, 3)\n",
        "gb"
      ],
      "metadata": {
        "id": "CkSGbwx1gJZu"
      },
      "execution_count": null,
      "outputs": []
    },
    {
      "cell_type": "code",
      "source": [
        "# Calculate time with magic commands, for loop\n",
        "%timeit _ = init_population_for(six_hump_camel, 2, 10000, -3, 3, 3)"
      ],
      "metadata": {
        "id": "W-c3tMLJq3f6"
      },
      "execution_count": null,
      "outputs": []
    },
    {
      "cell_type": "code",
      "source": [
        "%timeit _ = init_population(six_hump_camel, 2, 10000, -3, 3, 3)"
      ],
      "metadata": {
        "id": "s6PYN4Bzr1EI"
      },
      "execution_count": null,
      "outputs": []
    },
    {
      "cell_type": "code",
      "source": [
        "# Visualize particles and velocity vectors\n",
        "def plot_particles(particles, velocity):\n",
        "  return 0"
      ],
      "metadata": {
        "id": "_dqJL0tYeAhX"
      },
      "execution_count": null,
      "outputs": []
    },
    {
      "cell_type": "code",
      "source": [
        "# PSO\n",
        "def pso(objective_function, dimensions, pop_size, x_min, x_max, v_max, c1, c2, max_iter):\n",
        "  # Loop here\n",
        "  return 0"
      ],
      "metadata": {
        "id": "xL7BmXc_r60J"
      },
      "execution_count": null,
      "outputs": []
    },
    {
      "cell_type": "markdown",
      "source": [
        "# Combinatorial Problems"
      ],
      "metadata": {
        "id": "vTVTGphtI_bs"
      }
    },
    {
      "cell_type": "code",
      "source": [
        "# Import libraries\n",
        "from matplotlib import pyplot as plt\n",
        "import numpy as np\n",
        "import time"
      ],
      "metadata": {
        "id": "gBausJ_ePIL6"
      },
      "execution_count": null,
      "outputs": []
    },
    {
      "cell_type": "markdown",
      "source": [
        "## Traveling Salesman Problem"
      ],
      "metadata": {
        "id": "lKkPLVzFLV88"
      }
    },
    {
      "cell_type": "code",
      "source": [
        "# Get data points (X, Y)\n",
        "solution = [0, 27, 5, 11, 8, 25, 2, 28, 4, 20, 1, 19, 9, 3, 14, 17, 13, 16, 21, 10, 18, 24, 6, 22, 7, 26, 15, 12, 23, 0]\n",
        "solution_cost = 9074.1\n",
        "p = np.loadtxt('https://raw.githubusercontent.com/sololzano/2021-Python-Optimization-Lab/main/TSP_Data/Bays.tsp')\n",
        "points = p[:, 1:]\n",
        "print(points.shape)"
      ],
      "metadata": {
        "id": "-Pq0-V1dXbSI"
      },
      "execution_count": null,
      "outputs": []
    },
    {
      "cell_type": "code",
      "source": [
        "# Get distance matrix Dij\n",
        "Dij = np.linalg.norm(p - p[:, None], axis=-1)\n",
        "print(Dij.shape)\n",
        "print((Dij == Dij.T).all())"
      ],
      "metadata": {
        "id": "n7kz_ISWJ-me"
      },
      "execution_count": null,
      "outputs": []
    },
    {
      "cell_type": "code",
      "source": [
        "# Calculate cost function\n",
        "def get_tsp_cost(permutation, d_matrix):\n",
        "  return 0"
      ],
      "metadata": {
        "id": "XWB5LkzGGwqw"
      },
      "execution_count": null,
      "outputs": []
    },
    {
      "cell_type": "code",
      "source": [
        "# Plot points\n",
        "def plot_routes():\n",
        "  return 0"
      ],
      "metadata": {
        "id": "DRL620u6L9jI"
      },
      "execution_count": null,
      "outputs": []
    },
    {
      "cell_type": "markdown",
      "source": [
        "## Asymmetric Vehicle Routing Problem"
      ],
      "metadata": {
        "id": "mIngIgO2NuGB"
      }
    },
    {
      "cell_type": "code",
      "source": [
        "# Read distance matrix and demands\n",
        "vrp_dij = np.loadtxt('https://raw.githubusercontent.com/sololzano/2021-Python-Optimization-Lab/main/CVRP_Data/Distances.csv', delimiter=',')\n",
        "vrp_hij = np.loadtxt('https://raw.githubusercontent.com/sololzano/2021-Python-Optimization-Lab/main/CVRP_Data/High_Demands.csv', delimiter=',')\n",
        "print(vrp_dij.shape)\n",
        "print(vrp_hij.shape)"
      ],
      "metadata": {
        "id": "Hzi0opRbN072"
      },
      "execution_count": null,
      "outputs": []
    },
    {
      "cell_type": "markdown",
      "source": [
        "## Quadratic Assignment Problem"
      ],
      "metadata": {
        "id": "__-w_dk3LZLC"
      }
    },
    {
      "cell_type": "code",
      "source": [
        "# Read data files for QAP\n",
        "qap_file = np.loadtxt('https://www.opt.math.tugraz.at/qaplib/data.d/nug18.dat', skiprows=2)\n",
        "dij_qap = qap_file[:18, :]\n",
        "fij_qap = qap_file[18:, :]\n",
        "print(dij_qap.shape)\n",
        "print(fij_qap.shape)"
      ],
      "metadata": {
        "id": "MFQYKJYP8kNF"
      },
      "execution_count": null,
      "outputs": []
    }
  ]
}