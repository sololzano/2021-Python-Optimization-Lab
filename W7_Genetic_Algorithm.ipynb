{
  "nbformat": 4,
  "nbformat_minor": 0,
  "metadata": {
    "colab": {
      "name": "W7-Genetic Algorithm.ipynb",
      "provenance": [],
      "collapsed_sections": [],
      "authorship_tag": "ABX9TyOow0SLXa6vxVFE665DNgay",
      "include_colab_link": true
    },
    "kernelspec": {
      "name": "python3",
      "display_name": "Python 3"
    },
    "language_info": {
      "name": "python"
    }
  },
  "cells": [
    {
      "cell_type": "markdown",
      "metadata": {
        "id": "view-in-github",
        "colab_type": "text"
      },
      "source": [
        "<a href=\"https://colab.research.google.com/github/sololzano/2021-Python-Optimization-Lab/blob/main/W7_Genetic_Algorithm.ipynb\" target=\"_parent\"><img src=\"https://colab.research.google.com/assets/colab-badge.svg\" alt=\"Open In Colab\"/></a>"
      ]
    },
    {
      "cell_type": "markdown",
      "source": [
        "# Genetic Algorithm"
      ],
      "metadata": {
        "id": "OfQ4OBY3MG1T"
      }
    },
    {
      "cell_type": "code",
      "execution_count": 1,
      "metadata": {
        "id": "SZaTuS_YMEYi"
      },
      "outputs": [],
      "source": [
        "# Import libraries\n",
        "from matplotlib import pyplot as plt\n",
        "import numpy as np\n",
        "import time"
      ]
    },
    {
      "cell_type": "code",
      "source": [
        "# Six Hump Camel Function\n",
        "def binary_camel(x, encoding, x_min):\n",
        "  # From binary encoding to real number\n",
        "  new_x = np.array([[int(c, 2) for c in y] for y in x])\n",
        "  X = (new_x * encoding) + x_min\n",
        "  x1, x2 = X[:, 0], X[:, 1]\n",
        "  \n",
        "  # Same\n",
        "  a = (4 - 2.1*x1**2 + (1/3)*x1**4)*x1**2\n",
        "  b = x1*x2\n",
        "  c = (-4 + 4*x2**2)*x2**2\n",
        "  return a + b +c"
      ],
      "metadata": {
        "id": "k-3cRcKDXr1F"
      },
      "execution_count": 2,
      "outputs": []
    },
    {
      "cell_type": "code",
      "source": [
        "# Adjiman's Benchmark Function \n",
        "def adjiman(x, encoding, x_min):\n",
        "  # From binary encoding to real number\n",
        "  new_x = np.array([[int(c, 2) for c in y] for y in x])\n",
        "  X = (new_x * encoding) + x_min\n",
        "  x1, x2 = X[:, 0], X[:, 1]\n",
        "  a = np.cos(x1) * np.sin(x2)\n",
        "  b = x1 / (x2**2 + 1)\n",
        "  return (a - b)"
      ],
      "metadata": {
        "id": "oPxyet9lXudh"
      },
      "execution_count": 3,
      "outputs": []
    },
    {
      "cell_type": "code",
      "source": [
        "def init_population(fitness_func, pop_size, dimensions, precision, x_min, x_max):\n",
        "  x_decimal = np.random.randint(0, (2**precision) - 1, \n",
        "                                (pop_size, dimensions))\n",
        "  # From base 10 to binary\n",
        "  x_binary = [[format(j, '0{}b'.format(precision)) for j in i] for i in x_decimal]\n",
        "  \n",
        "  encoding = (x_max - x_min)/((2**precision) - 1)\n",
        "\n",
        "  # Calculate fitness\n",
        "  fitness = fitness_func(x_binary, encoding, x_min)\n",
        "\n",
        "  # Get best \n",
        "  min_idx = np.argmin(fitness)\n",
        "  gb = x_binary[min_idx]\n",
        "  fgb = fitness[min_idx]\n",
        "\n",
        "  return x_binary, fitness, gb, fgb, encoding"
      ],
      "metadata": {
        "id": "TAkeVB89MJEc"
      },
      "execution_count": 4,
      "outputs": []
    },
    {
      "cell_type": "code",
      "source": [
        "# fitness_func, pop_size, dimensions, precision, x_min, x_max\n",
        "x_binary, fitness, gb, fgb, encoding = init_population(binary_camel, 5, 2, 10, -3, 3)\n",
        "x_binary"
      ],
      "metadata": {
        "colab": {
          "base_uri": "https://localhost:8080/"
        },
        "id": "VKc1H2qR7XCb",
        "outputId": "2971dae9-f1a4-4d65-d73c-497c32068740"
      },
      "execution_count": 5,
      "outputs": [
        {
          "output_type": "execute_result",
          "data": {
            "text/plain": [
              "[['1101111011', '1111111110'],\n",
              " ['0001010100', '1111010011'],\n",
              " ['1101100101', '1101010001'],\n",
              " ['1110110011', '0010001100'],\n",
              " ['0001110100', '1011110011']]"
            ]
          },
          "metadata": {},
          "execution_count": 5
        }
      ]
    },
    {
      "cell_type": "code",
      "source": [
        "def selection_mechanism(fitness, kind):\n",
        "  if kind == 'random':\n",
        "    indices = np.random.permutation(len(fitness))[:2]\n",
        "    return indices\n",
        "  if kind == 'tournament':\n",
        "    indices = np.random.permutation(len(fitness))[:4]\n",
        "    f_indices = fitness[indices]\n",
        "    idx1 = np.argmin(f_indices[0:2])\n",
        "    idx2 = np.argmin(f_indices[2:]) + 2\n",
        "    indices = [indices[idx1], indices[idx2]]\n",
        "    return np.array(indices)\n",
        "  if kind == 'roulette':\n",
        "    pass"
      ],
      "metadata": {
        "id": "OtiDHLvlRB0g"
      },
      "execution_count": null,
      "outputs": []
    },
    {
      "cell_type": "code",
      "source": [
        "indices = selection_mechanism(fitness, 'tournament')\n",
        "print(indices)\n",
        "print(x_binary[indices[0]])\n",
        "print(x_binary[indices[1]])"
      ],
      "metadata": {
        "colab": {
          "base_uri": "https://localhost:8080/"
        },
        "id": "jE6EcOiK9s-X",
        "outputId": "c0829e74-54f6-4aa5-c0e3-127f624980ad"
      },
      "execution_count": null,
      "outputs": [
        {
          "output_type": "stream",
          "name": "stdout",
          "text": [
            "[2 4]\n",
            "['1100010110', '1001101100']\n",
            "['1100111000', '1011000100']\n"
          ]
        }
      ]
    },
    {
      "cell_type": "code",
      "source": [
        "def crossover(parents, parents_fitness, pc, kind):\n",
        "  if kind == 'single_point':\n",
        "    pass\n",
        "  if kind == 'double_point':\n",
        "    pass\n",
        "  return parents, parents_fitness"
      ],
      "metadata": {
        "id": "bO-lOzmaR0ph"
      },
      "execution_count": null,
      "outputs": []
    },
    {
      "cell_type": "code",
      "source": [
        "def mutation(children, children_fitness, pm, kind):\n",
        "  if kind == 'bit_flip':\n",
        "    pass\n",
        "  if kind == 'substring_swap':\n",
        "    pass\n",
        "  return children, children_fitness"
      ],
      "metadata": {
        "id": "nfUDvtDnR33Q"
      },
      "execution_count": null,
      "outputs": []
    },
    {
      "cell_type": "code",
      "source": [
        "def maintenance_mechanism(parents, children, parents_fitness, \n",
        "                          children_fitness, kind):\n",
        "  if kind == 'replacement':\n",
        "    return 0\n",
        "  if kind == 'fittest':\n",
        "    return 0\n",
        "  if kind == 'tournament':\n",
        "    return 0"
      ],
      "metadata": {
        "id": "s1szmLiWTvwe"
      },
      "execution_count": null,
      "outputs": []
    },
    {
      "cell_type": "code",
      "source": [
        "def genetic_algorithm(fitness_function, pop_size, dimensions, precision, \n",
        "                      x_min, x_max, max_generations, selection_kind, \n",
        "                      crossover_kind, mutation_kind, maintenance_kind, pc, pm):\n",
        "  \n",
        "  # Initial population\n",
        "  x, fx, gb, encoding = init_population(pop_size, dimensions, \n",
        "                                        precision, x_min, x_max)\n",
        "  gb_array = []\n",
        "  fb_array = []\n",
        "  gb_array.append(gb)\n",
        "  for i in range(1, max_generations + 1):\n",
        "    new_generation = []\n",
        "    new_fitness = []\n",
        "    for j in range(pop_size // 2):\n",
        "      # Get two potential parents\n",
        "      idx_parents = selection_mechanism(fx, selection_kind)\n",
        "      parents = np.copy(x[idx_parents])\n",
        "      parents_fitness = np.copy(f[idx_parents])\n",
        "\n",
        "      # Cross parents to generate two children\n",
        "      children, ch_fit = crossover(parents, parents_fitness pc, crossover_kind)\n",
        "\n",
        "      # Mutate children\n",
        "      children, ch_fit = mutation(children, ch_fit, pm, mutation_kind)\n",
        "      new_generation.append(np.array(children))\n",
        "      new_fitness.append(np.array(ch_fit))\n",
        "\n",
        "    # Re-shape new generation and respective fitness\n",
        "    new_generation = np.reshape(new_generation, x.shape)\n",
        "    new_fitness = np.reshape(new_fitness, fx.shape)\n",
        "\n",
        "    # Maintenance mechanism\n",
        "    x, fx = maintenance_mechanism(parents, new_generation, fx, \n",
        "                                  new_fitness, maintenance_kind)\n",
        "    min_idx = np.argmin(fx)\n",
        "    gb_array.append(x[min_idx])\n",
        "    fb_array.append(fx[min_idx])\n",
        "  return gb_array, fb_array"
      ],
      "metadata": {
        "id": "HT5m2nJxUly2"
      },
      "execution_count": null,
      "outputs": []
    },
    {
      "cell_type": "code",
      "source": [
        ""
      ],
      "metadata": {
        "id": "_OxljKcWYDYu"
      },
      "execution_count": null,
      "outputs": []
    }
  ]
}