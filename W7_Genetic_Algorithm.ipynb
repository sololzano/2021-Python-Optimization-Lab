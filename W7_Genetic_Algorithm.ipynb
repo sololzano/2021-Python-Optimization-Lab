{
  "nbformat": 4,
  "nbformat_minor": 0,
  "metadata": {
    "colab": {
      "name": "W7-Genetic Algorithm.ipynb",
      "provenance": [],
      "collapsed_sections": [],
      "authorship_tag": "ABX9TyOuZsjP64WwuC7GKPNeQD2z",
      "include_colab_link": true
    },
    "kernelspec": {
      "name": "python3",
      "display_name": "Python 3"
    },
    "language_info": {
      "name": "python"
    }
  },
  "cells": [
    {
      "cell_type": "markdown",
      "metadata": {
        "id": "view-in-github",
        "colab_type": "text"
      },
      "source": [
        "<a href=\"https://colab.research.google.com/github/sololzano/2021-Python-Optimization-Lab/blob/main/W7_Genetic_Algorithm.ipynb\" target=\"_parent\"><img src=\"https://colab.research.google.com/assets/colab-badge.svg\" alt=\"Open In Colab\"/></a>"
      ]
    },
    {
      "cell_type": "markdown",
      "source": [
        "# Genetic Algorithm"
      ],
      "metadata": {
        "id": "OfQ4OBY3MG1T"
      }
    },
    {
      "cell_type": "code",
      "execution_count": 114,
      "metadata": {
        "id": "SZaTuS_YMEYi"
      },
      "outputs": [],
      "source": [
        "# Import libraries\n",
        "from matplotlib import pyplot as plt\n",
        "import numpy as np\n",
        "import time"
      ]
    },
    {
      "cell_type": "code",
      "source": [
        "# Six Hump Camel Function\n",
        "def binary_camel(x, encoding, x_min):\n",
        "  # From binary encoding to real number\n",
        "  new_x = np.array([[int(c, 2) for c in y] for y in x])\n",
        "  X = (new_x * encoding) + x_min\n",
        "  x1, x2 = X[:, 0], X[:, 1]\n",
        "  \n",
        "  # Same\n",
        "  a = (4 - 2.1*x1**2 + (1/3)*x1**4)*x1**2\n",
        "  b = x1*x2\n",
        "  c = (-4 + 4*x2**2)*x2**2\n",
        "  return a + b +c"
      ],
      "metadata": {
        "id": "k-3cRcKDXr1F"
      },
      "execution_count": 115,
      "outputs": []
    },
    {
      "cell_type": "code",
      "source": [
        "# Adjiman's Benchmark Function \n",
        "def adjiman(x, encoding, x_min):\n",
        "  # From binary encoding to real number\n",
        "  new_x = np.array([[int(c, 2) for c in y] for y in x])\n",
        "  X = (new_x * encoding) + x_min\n",
        "  x1, x2 = X[:, 0], X[:, 1]\n",
        "  a = np.cos(x1) * np.sin(x2)\n",
        "  b = x1 / (x2**2 + 1)\n",
        "  return (a - b)"
      ],
      "metadata": {
        "id": "oPxyet9lXudh"
      },
      "execution_count": 116,
      "outputs": []
    },
    {
      "cell_type": "code",
      "source": [
        "def init_population(fitness_func, pop_size, dimensions, precision, x_min, x_max):\n",
        "  x_decimal = np.random.randint(0, (2**precision) - 1, \n",
        "                                (pop_size, dimensions))\n",
        "  # From base 10 to binary\n",
        "  x_binary = [[format(j, '0{}b'.format(precision)) for j in i] for i in x_decimal]\n",
        "  \n",
        "  encoding = (x_max - x_min)/((2**precision) - 1)\n",
        "\n",
        "  # Calculate fitness\n",
        "  fitness = fitness_func(x_binary, encoding, x_min)\n",
        "\n",
        "  # Get best \n",
        "  min_idx = np.argmin(fitness)\n",
        "  gb = x_binary[min_idx]\n",
        "  fgb = fitness[min_idx]\n",
        "\n",
        "  return np.array(x_binary), np.array(fitness), np.array(gb), fgb, encoding"
      ],
      "metadata": {
        "id": "TAkeVB89MJEc"
      },
      "execution_count": 127,
      "outputs": []
    },
    {
      "cell_type": "code",
      "source": [
        "# fitness_func, pop_size, dimensions, precision, x_min, x_max\n",
        "x_binary, fitness, gb, fgb, encoding = init_population(binary_camel, 10, 2, 10, -3, 3)\n",
        "x_binary"
      ],
      "metadata": {
        "id": "VKc1H2qR7XCb",
        "colab": {
          "base_uri": "https://localhost:8080/"
        },
        "outputId": "c90a0809-1f0e-4629-e4e3-1720886ed4d6"
      },
      "execution_count": 128,
      "outputs": [
        {
          "output_type": "execute_result",
          "data": {
            "text/plain": [
              "array([['0001011101', '1100000011'],\n",
              "       ['1110101111', '0010100000'],\n",
              "       ['0010111100', '1000100011'],\n",
              "       ['0011111110', '0110100000'],\n",
              "       ['1111000100', '0101010000'],\n",
              "       ['1001100111', '1111001100'],\n",
              "       ['1011110100', '0111100010'],\n",
              "       ['1111000010', '1011101011'],\n",
              "       ['0010100010', '0001011110'],\n",
              "       ['0011000101', '1110011010']], dtype='<U10')"
            ]
          },
          "metadata": {},
          "execution_count": 128
        }
      ]
    },
    {
      "cell_type": "code",
      "source": [
        "def selection_mechanism(fitness, kind):\n",
        "  if kind == 'random':\n",
        "    indices = np.random.permutation(len(fitness))[:2]\n",
        "    return indices\n",
        "  if kind == 'tournament':\n",
        "    indices = np.random.permutation(len(fitness))[:4]\n",
        "    f_indices = fitness[indices]\n",
        "    idx1 = np.argmin(f_indices[0:2])\n",
        "    idx2 = np.argmin(f_indices[2:]) + 2\n",
        "    indices = [indices[idx1], indices[idx2]]\n",
        "    return np.array(indices)"
      ],
      "metadata": {
        "id": "OtiDHLvlRB0g"
      },
      "execution_count": 129,
      "outputs": []
    },
    {
      "cell_type": "code",
      "source": [
        "indices = selection_mechanism(fitness, 'tournament')\n",
        "parents = x_binary[indices]\n",
        "print(indices)\n",
        "print(parents)"
      ],
      "metadata": {
        "id": "jE6EcOiK9s-X",
        "colab": {
          "base_uri": "https://localhost:8080/"
        },
        "outputId": "2d2fa567-5886-425e-dc6f-2e2b5874f8ab"
      },
      "execution_count": 131,
      "outputs": [
        {
          "output_type": "stream",
          "name": "stdout",
          "text": [
            "[3 9]\n",
            "[['0011111110' '0110100000']\n",
            " ['0011000101' '1110011010']]\n"
          ]
        }
      ]
    },
    {
      "cell_type": "code",
      "source": [
        "def crossover(parents, pc, kind):\n",
        "  p = np.random.uniform()\n",
        "  if p > pc:\n",
        "    return parents\n",
        "\n",
        "  if kind == 'single_point':\n",
        "    l = len(parents[0][0])\n",
        "    idx = np.random.randint(l//4, l)\n",
        "    p1 = parents[0]\n",
        "    p2 = parents[1]\n",
        "    children = []\n",
        "    for x, y in zip(p1, p2):\n",
        "      s1 = x[:idx] + y[idx:]\n",
        "      s2 = y[:idx] + x[idx:]\n",
        "      children.append([s1, s2])\n",
        "    children = np.array(children).T\n",
        "  elif kind == 'two_point':\n",
        "    children = np.copy(parents)\n",
        "    for _ in range(2):\n",
        "      children = crossover(children, pc, 'single_point')\n",
        "  return children"
      ],
      "metadata": {
        "id": "bO-lOzmaR0ph"
      },
      "execution_count": 170,
      "outputs": []
    },
    {
      "cell_type": "code",
      "source": [
        "children = crossover(parents, 1., 'two_point')\n",
        "print(np.array(parents), '\\n')\n",
        "print(children)"
      ],
      "metadata": {
        "colab": {
          "base_uri": "https://localhost:8080/"
        },
        "id": "LuTnzzEd8XWj",
        "outputId": "3a901b3c-b9f0-40bf-fe06-11b93a903c86"
      },
      "execution_count": 171,
      "outputs": [
        {
          "output_type": "stream",
          "name": "stdout",
          "text": [
            "[['0011111110' '0110100000']\n",
            " ['0011000101' '1110011010']] \n",
            "\n",
            "[['0011000100' '0110011010']\n",
            " ['0011111111' '1110100000']]\n"
          ]
        }
      ]
    },
    {
      "cell_type": "code",
      "source": [
        "def mutation(child, pm, kind):\n",
        "  if kind == 'bit_flip':\n",
        "    new_child = []\n",
        "    for i in range(len(child)):\n",
        "      s = ''\n",
        "      for j in range(len(child[i])):\n",
        "        p = np.random.uniform()\n",
        "        if p > pm:\n",
        "          if child[i][j] == '1':\n",
        "            s += '0'\n",
        "          else:\n",
        "            s += '1'\n",
        "        else:\n",
        "          s += child[i][j]\n",
        "      new_child.append(s)\n",
        "  if kind == 'substring_swap':\n",
        "    pass\n",
        "  return new_child"
      ],
      "metadata": {
        "id": "nfUDvtDnR33Q"
      },
      "execution_count": null,
      "outputs": []
    },
    {
      "cell_type": "code",
      "source": [
        "# Mutate children\n",
        "print(children, '\\n')\n",
        "children[0] = mutation(children[0], 0.5, 'bit_flip')\n",
        "children[1] = mutation(children[1], 0.5, 'bit_flip')\n",
        "print(children)"
      ],
      "metadata": {
        "colab": {
          "base_uri": "https://localhost:8080/"
        },
        "id": "rl4hT0DOGEYc",
        "outputId": "ac65d184-4307-4304-d003-58d7fdb8913a"
      },
      "execution_count": 172,
      "outputs": [
        {
          "output_type": "stream",
          "name": "stdout",
          "text": [
            "[['0011000100' '0110011010']\n",
            " ['0011111111' '1110100000']] \n",
            "\n",
            "[['1000110110' '0101111010']\n",
            " ['1000101010' '0111000100']]\n"
          ]
        }
      ]
    },
    {
      "cell_type": "code",
      "source": [
        "def maintenance_mechanism(parents, children, parents_fitness, \n",
        "                          children_fitness, kind):\n",
        "  if kind == 'replacement':\n",
        "    return children, children_fitness\n",
        "  if kind == 'fittest':\n",
        "    pooled_population = np.concatenate((parents, children))\n",
        "    pooled_fitness = np.concatenate((parents_fitness, children_fitness))\n",
        "    indices = np.argsort(pooled_fitness)[:len(pooled_fitness)//2]\n",
        "    new_pop = pooled_population[indices]\n",
        "    new_fit = pooled_fitness[indices]\n",
        "    return new_pop, new_fit\n",
        "  if kind == 'tournament':\n",
        "    return 0"
      ],
      "metadata": {
        "id": "s1szmLiWTvwe"
      },
      "execution_count": 173,
      "outputs": []
    },
    {
      "cell_type": "code",
      "source": [
        "def genetic_algorithm(fitness_function, pop_size, dimensions, precision, \n",
        "                      x_min, x_max, max_generations, selection_kind, \n",
        "                      crossover_kind, mutation_kind, maintenance_kind, pc, pm):\n",
        "  \n",
        "  # Initial population\n",
        "  x, fx, gb, encoding = init_population(pop_size, dimensions, \n",
        "                                        precision, x_min, x_max)\n",
        "  gb_array = []\n",
        "  fb_array = []\n",
        "  gb_array.append(gb)\n",
        "  for i in range(1, max_generations + 1):\n",
        "    new_generation = []\n",
        "    new_fitness = []\n",
        "    for j in range(pop_size // 2):\n",
        "      # Get two potential parents\n",
        "      idx_parents = selection_mechanism(fx, selection_kind)\n",
        "      parents = np.copy(x[idx_parents])\n",
        "      parents_fitness = np.copy(fitness_function[idx_parents])\n",
        "\n",
        "      # Cross parents to generate two children\n",
        "      children = crossover(parents, pc, crossover_kind)\n",
        "\n",
        "      # Mutate children\n",
        "      children, ch_fit = mutation(children, pm, mutation_kind)\n",
        "      new_generation.append(np.array(children))\n",
        "      new_fitness.append(np.array(ch_fit))\n",
        "\n",
        "    # Re-shape new generation and respective fitness\n",
        "    new_generation = np.reshape(new_generation, x.shape)\n",
        "    new_fitness = np.reshape(new_fitness, fx.shape)\n",
        "\n",
        "    # Maintenance mechanism\n",
        "    x, fx = maintenance_mechanism(parents, new_generation, fx, \n",
        "                                  new_fitness, maintenance_kind)\n",
        "    min_idx = np.argmin(fx)\n",
        "    gb_array.append(x[min_idx])\n",
        "    fb_array.append(fx[min_idx])\n",
        "  return gb_array, fb_array"
      ],
      "metadata": {
        "id": "HT5m2nJxUly2"
      },
      "execution_count": null,
      "outputs": []
    },
    {
      "cell_type": "code",
      "source": [
        ""
      ],
      "metadata": {
        "id": "_OxljKcWYDYu"
      },
      "execution_count": null,
      "outputs": []
    }
  ]
}