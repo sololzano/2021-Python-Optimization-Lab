{
  "nbformat": 4,
  "nbformat_minor": 0,
  "metadata": {
    "colab": {
      "name": "W8-Genetic Algorithm + BoxPlots.ipynb",
      "provenance": [],
      "collapsed_sections": [],
      "authorship_tag": "ABX9TyNXwWTwnydg1UXuEnS/g2ES",
      "include_colab_link": true
    },
    "kernelspec": {
      "name": "python3",
      "display_name": "Python 3"
    },
    "language_info": {
      "name": "python"
    }
  },
  "cells": [
    {
      "cell_type": "markdown",
      "metadata": {
        "id": "view-in-github",
        "colab_type": "text"
      },
      "source": [
        "<a href=\"https://colab.research.google.com/github/sololzano/2021-Python-Optimization-Lab/blob/main/W8_Genetic_Algorithm_%2B_BoxPlots.ipynb\" target=\"_parent\"><img src=\"https://colab.research.google.com/assets/colab-badge.svg\" alt=\"Open In Colab\"/></a>"
      ]
    },
    {
      "cell_type": "markdown",
      "source": [
        "# Genetic Algorithm"
      ],
      "metadata": {
        "id": "OfQ4OBY3MG1T"
      }
    },
    {
      "cell_type": "code",
      "execution_count": null,
      "metadata": {
        "id": "SZaTuS_YMEYi"
      },
      "outputs": [],
      "source": [
        "# Import libraries\n",
        "from matplotlib import pyplot as plt\n",
        "import numpy as np\n",
        "import time"
      ]
    },
    {
      "cell_type": "code",
      "source": [
        "# Six Hump Camel Function\n",
        "def binary_camel(x, encoding, x_min):\n",
        "  # From binary encoding to real number\n",
        "  new_x = np.array([[int(c, 2) for c in y] for y in x])\n",
        "  X = (new_x * encoding) + x_min\n",
        "  x1, x2 = X[:, 0], X[:, 1]\n",
        "  \n",
        "  # Same\n",
        "  a = (4 - 2.1*x1**2 + (1/3)*x1**4)*x1**2\n",
        "  b = x1*x2\n",
        "  c = (-4 + 4*x2**2)*x2**2\n",
        "  return a + b +c"
      ],
      "metadata": {
        "id": "k-3cRcKDXr1F"
      },
      "execution_count": null,
      "outputs": []
    },
    {
      "cell_type": "code",
      "source": [
        "# Adjiman's Benchmark Function \n",
        "def adjiman(x, encoding, x_min):\n",
        "  # From binary encoding to real number\n",
        "  new_x = np.array([[int(c, 2) for c in y] for y in x])\n",
        "  X = (new_x * encoding) + x_min\n",
        "  x1, x2 = X[:, 0], X[:, 1]\n",
        "  a = np.cos(x1) * np.sin(x2)\n",
        "  b = x1 / (x2**2 + 1)\n",
        "  return (a - b)"
      ],
      "metadata": {
        "id": "oPxyet9lXudh"
      },
      "execution_count": null,
      "outputs": []
    },
    {
      "cell_type": "code",
      "source": [
        "def init_population(fitness_func, pop_size, dimensions, precision, x_min, x_max):\n",
        "  x_decimal = np.random.randint(0, (2**precision) - 1, \n",
        "                                (pop_size, dimensions))\n",
        "  # From base 10 to binary\n",
        "  x_binary = [[format(j, '0{}b'.format(precision)) for j in i] for i in x_decimal]\n",
        "  \n",
        "  encoding = (x_max - x_min)/((2**precision) - 1)\n",
        "\n",
        "  # Calculate fitness\n",
        "  fitness = fitness_func(x_binary, encoding, x_min)\n",
        "\n",
        "  # Get best \n",
        "  min_idx = np.argmin(fitness)\n",
        "  gb = x_binary[min_idx]\n",
        "  fgb = fitness[min_idx]\n",
        "\n",
        "  return np.array(x_binary), np.array(fitness), np.array(gb), fgb, encoding"
      ],
      "metadata": {
        "id": "TAkeVB89MJEc"
      },
      "execution_count": null,
      "outputs": []
    },
    {
      "cell_type": "code",
      "source": [
        "def selection_mechanism(fitness, kind):\n",
        "  if kind == 'random':\n",
        "    indices = np.random.permutation(len(fitness))[:2]\n",
        "    return indices\n",
        "  if kind == 'tournament':\n",
        "    indices = np.random.permutation(len(fitness))[:4]\n",
        "    f_indices = fitness[indices]\n",
        "    idx1 = np.argmin(f_indices[0:2])\n",
        "    idx2 = np.argmin(f_indices[2:]) + 2\n",
        "    indices = [indices[idx1], indices[idx2]]\n",
        "    return np.array(indices)\n",
        "  if kind == 'roulette':\n",
        "    ranks = np.argsort(fitness)\n",
        "    ranks_vals = 1/(ranks + 1)\n",
        "    probs = ranks_vals/np.sum(ranks_vals)\n",
        "    idx1 = np.random.choice(ranks, p=probs)\n",
        "    idx2 = np.random.choice(ranks, p=probs)\n",
        "    indices = [idx1, idx2]\n",
        "    return np.array(indices)"
      ],
      "metadata": {
        "id": "OtiDHLvlRB0g"
      },
      "execution_count": null,
      "outputs": []
    },
    {
      "cell_type": "code",
      "source": [
        "def crossover(parents, pc, kind, n=0):\n",
        "  p = np.random.uniform()\n",
        "  if p > pc:\n",
        "    return parents\n",
        "\n",
        "  if kind == 'single_point':\n",
        "    l = len(parents[0][0])\n",
        "    idx = np.random.randint(l//4, (3*l)//4)\n",
        "    p1 = parents[0]\n",
        "    p2 = parents[1]\n",
        "    c1 = [p1[0][:idx] + p2[0][idx:], p1[1][:idx] + p2[1][idx:]]\n",
        "    c2 = [p2[1][idx:] + p1[1][:idx], p2[1][:idx] + p1[1][idx:]]\n",
        "    children = [c1, c2]\n",
        "    children = np.array(children)\n",
        "  elif kind == 'two_point':\n",
        "    children = np.copy(parents)\n",
        "    for _ in range(2):\n",
        "      children = crossover(children, pc, 'single_point')\n",
        "  return children"
      ],
      "metadata": {
        "id": "bO-lOzmaR0ph"
      },
      "execution_count": null,
      "outputs": []
    },
    {
      "cell_type": "code",
      "source": [
        "def mutation(child, pm, kind):\n",
        "  if kind == 'bit_flip':\n",
        "    new_child = []\n",
        "    for i in range(len(child)):\n",
        "      s = ''\n",
        "      for j in range(len(child[i])):\n",
        "        p = np.random.uniform()\n",
        "        if p > pm:\n",
        "          if child[i][j] == '1':\n",
        "            s += '0'\n",
        "          else:\n",
        "            s += '1'\n",
        "        else:\n",
        "          s += child[i][j]\n",
        "      new_child.append(s)\n",
        "  return np.array(new_child)"
      ],
      "metadata": {
        "id": "nfUDvtDnR33Q"
      },
      "execution_count": null,
      "outputs": []
    },
    {
      "cell_type": "code",
      "source": [
        "def maintenance_mechanism(parents, children, parents_fitness, \n",
        "                          children_fitness, kind):\n",
        "  if kind == 'replacement':\n",
        "    return children, children_fitness\n",
        "  if kind == 'fittest':\n",
        "    pooled_population = np.concatenate((parents, children), axis=0)\n",
        "    pooled_fitness = np.concatenate((parents_fitness, children_fitness))\n",
        "    indices = np.argsort(pooled_fitness)[:len(pooled_fitness)//2]\n",
        "    new_pop = pooled_population[indices]\n",
        "    new_fit = pooled_fitness[indices]\n",
        "    return new_pop, new_fit\n",
        "  if kind == 'tournament':\n",
        "    return 0"
      ],
      "metadata": {
        "id": "s1szmLiWTvwe"
      },
      "execution_count": null,
      "outputs": []
    },
    {
      "cell_type": "code",
      "source": [
        "def genetic_algorithm(fitness_function, pop_size, dimensions, precision, \n",
        "                      x_min, x_max, max_generations, selection_kind, \n",
        "                      crossover_kind, mutation_kind, maintenance_kind, pc, pm):\n",
        "  \n",
        "  # Initial population\n",
        "  x, fx, gb, fgb, encoding = init_population(fitness_function, pop_size, dimensions, \n",
        "                                        precision, x_min, x_max)\n",
        "  gb_array = []\n",
        "  fb_array = []\n",
        "  gb_array.append(gb)\n",
        "  for i in range(1, max_generations + 1):\n",
        "    new_generation = []\n",
        "    new_fitness = []\n",
        "    for j in range(pop_size // 2):\n",
        "      # Get two potential parents\n",
        "      idx_parents = selection_mechanism(fx, selection_kind)\n",
        "      parents = np.copy(x[idx_parents])\n",
        "\n",
        "      # Cross parents to generate two children\n",
        "      children = crossover(parents, pc, crossover_kind)\n",
        "      # Mutate children\n",
        "      for k in range(len(children)):\n",
        "        children[k] = mutation(children[k], pm, mutation_kind)\n",
        "      new_generation.append(np.array(children))\n",
        "\n",
        "      # Get fitness of children\n",
        "      new_fitness.append(fitness_function(children, encoding, x_min))\n",
        "\n",
        "    # Re-shape new generation and respective fitness\n",
        "    new_generation = np.reshape(new_generation, x.shape)\n",
        "    new_fitness = np.reshape(new_fitness, fx.shape)\n",
        "\n",
        "    # Maintenance mechanism\n",
        "    x, fx = maintenance_mechanism(x, new_generation, fx, \n",
        "                                  new_fitness, maintenance_kind)\n",
        "    min_idx = np.argmin(fx)\n",
        "    gb_array.append(x[min_idx])\n",
        "    fb_array.append(fx[min_idx])\n",
        "  return gb_array, fb_array"
      ],
      "metadata": {
        "id": "HT5m2nJxUly2"
      },
      "execution_count": null,
      "outputs": []
    },
    {
      "cell_type": "code",
      "source": [
        "gb_array, fb_array = genetic_algorithm(binary_camel, pop_size=20, dimensions=2, \n",
        "                                       precision=25, x_min=-3, x_max=3, \n",
        "                                       max_generations=100, \n",
        "                                       selection_kind='tournament', \n",
        "                                       crossover_kind='single_point', \n",
        "                                       mutation_kind='bit_flip', \n",
        "                                       maintenance_kind='fittest', \n",
        "                                       pc=0.8, pm=0.8)\n",
        "plt.figure(figsize=(12, 6))\n",
        "plt.plot(fb_array, linewidth=2)\n",
        "plt.title('Minimum value {:,.5f}'.format(fb_array[-1]), fontsize=18)\n",
        "plt.grid()"
      ],
      "metadata": {
        "id": "9wcazIgna9KE"
      },
      "execution_count": null,
      "outputs": []
    },
    {
      "cell_type": "markdown",
      "source": [
        "# Boxplot"
      ],
      "metadata": {
        "id": "_OxljKcWYDYu"
      }
    },
    {
      "cell_type": "code",
      "source": [
        "fbs_fittest = []\n",
        "fbs_replace = []\n",
        "for _ in range(20):\n",
        "  _, fb_array = genetic_algorithm(binary_camel, pop_size=20, dimensions=2, \n",
        "                                        precision=25, x_min=-3, x_max=3, \n",
        "                                        max_generations=50, \n",
        "                                        selection_kind='roulette', \n",
        "                                        crossover_kind='single_point', \n",
        "                                        mutation_kind='bit_flip', \n",
        "                                        maintenance_kind='fittest', \n",
        "                                        pc=0.5, pm=0.5)\n",
        "  fbs_fittest.append(fb_array[-1])\n",
        "for _ in range(20):\n",
        "  _, fb_array = genetic_algorithm(binary_camel, pop_size=20, dimensions=2, \n",
        "                                        precision=25, x_min=-3, x_max=3, \n",
        "                                        max_generations=50, \n",
        "                                        selection_kind='roulette', \n",
        "                                        crossover_kind='single_point', \n",
        "                                        mutation_kind='bit_flip', \n",
        "                                        maintenance_kind='replacement', \n",
        "                                        pc=0.5, pm=0.5)\n",
        "  fbs_replace.append(fb_array[-1])"
      ],
      "metadata": {
        "id": "FPOBGWvbfk9d"
      },
      "execution_count": null,
      "outputs": []
    },
    {
      "cell_type": "code",
      "source": [
        "plt.figure(figsize=(6, 10))\n",
        "ax1 = plt.boxplot([fbs_fittest, fbs_replace], \n",
        "                  labels=['Fittest', 'Replacement'])\n",
        "plt.xticks(fontsize=16)\n",
        "plt.grid()"
      ],
      "metadata": {
        "id": "UVdQR_szfwQF"
      },
      "execution_count": null,
      "outputs": []
    },
    {
      "cell_type": "code",
      "source": [
        ""
      ],
      "metadata": {
        "id": "7KI-fbkhf9NF"
      },
      "execution_count": null,
      "outputs": []
    }
  ]
}