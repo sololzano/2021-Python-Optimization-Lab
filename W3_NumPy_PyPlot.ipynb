{
  "nbformat": 4,
  "nbformat_minor": 0,
  "metadata": {
    "colab": {
      "name": "W3_NumPy_PyPlot.ipynb",
      "provenance": [],
      "collapsed_sections": [],
      "authorship_tag": "ABX9TyPlgslQyjlltjS/LUGgo2km",
      "include_colab_link": true
    },
    "kernelspec": {
      "name": "python3",
      "display_name": "Python 3"
    },
    "language_info": {
      "name": "python"
    }
  },
  "cells": [
    {
      "cell_type": "markdown",
      "metadata": {
        "id": "view-in-github",
        "colab_type": "text"
      },
      "source": [
        "<a href=\"https://colab.research.google.com/github/sololzano/2021-Python-Optimization-Lab/blob/main/W3_NumPy_PyPlot.ipynb\" target=\"_parent\"><img src=\"https://colab.research.google.com/assets/colab-badge.svg\" alt=\"Open In Colab\"/></a>"
      ]
    },
    {
      "cell_type": "markdown",
      "metadata": {
        "id": "RiayCeFY4M_c"
      },
      "source": [
        "# NumPy and PyPlot"
      ]
    },
    {
      "cell_type": "code",
      "source": [
        "from matplotlib import pyplot as plt\n",
        "import numpy as np\n",
        "import time"
      ],
      "metadata": {
        "id": "cban-FSBQJgH"
      },
      "execution_count": 1,
      "outputs": []
    },
    {
      "cell_type": "code",
      "metadata": {
        "id": "Xb6wmuP47RE4"
      },
      "source": [
        "# \n",
        "def six_hump_camel(x1, x2):\n",
        "    a = (4 - 2.1*x1**2 + (1/3)*x1**4)*x1**2\n",
        "    b = x1*x2\n",
        "    c = (-4 + 4*x2**2)*x2**2\n",
        "    return a + b +c"
      ],
      "execution_count": 2,
      "outputs": []
    },
    {
      "cell_type": "code",
      "metadata": {
        "id": "Y7DD6l5rTi4S"
      },
      "source": [
        "def init_population(objective_function, dimensions, pop_size, x_min, x_max, v_max):\n",
        "  # Particles\n",
        "  x = np.random.uniform(x_min, x_max, (pop_size, dimensions))\n",
        "  \n",
        "  # Velocity\n",
        "  v = np.random.uniform(-v_max/3, v_max/3, (pop_size, dimensions))\n",
        "  \n",
        "  # Particle's best\n",
        "  pb = np.copy(x)\n",
        "\n",
        "  # Objective function\n",
        "  f = objective_function(x[:, 0], x[:, 1])\n",
        "  \n",
        "  # Best index\n",
        "  gb_idx = np.argmin(f)\n",
        "  \n",
        "  # Global best\n",
        "  gb = np.copy(x[gb_idx])\n",
        "\n",
        "  return x, v, pb, f, gb, gb_idx"
      ],
      "execution_count": null,
      "outputs": []
    },
    {
      "cell_type": "code",
      "source": [
        "def init_population_for(objective_function, dimensions, pop_size, x_min, x_max, v_max):\n",
        "  # For loop\n",
        "\n",
        "  return 0"
      ],
      "metadata": {
        "id": "LmeXrxu_qChv"
      },
      "execution_count": null,
      "outputs": []
    },
    {
      "cell_type": "code",
      "source": [
        "# Visualize particles and velocity vectors\n",
        "def plot_particles(particles, velocity):\n",
        "  return 0"
      ],
      "metadata": {
        "id": "_dqJL0tYeAhX"
      },
      "execution_count": null,
      "outputs": []
    },
    {
      "cell_type": "code",
      "source": [
        "# PSO\n",
        "def pso(objective_function, dimensions, pop_size, x_min, x_max, v_max, c1, c2, max_iter):\n",
        "  # Loop here\n",
        "  return 0"
      ],
      "metadata": {
        "id": "xL7BmXc_r60J"
      },
      "execution_count": null,
      "outputs": []
    }
  ]
}