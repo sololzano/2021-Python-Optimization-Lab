{
  "nbformat": 4,
  "nbformat_minor": 0,
  "metadata": {
    "colab": {
      "name": "Copy of W3_NumPy_PyPlot.ipynb",
      "provenance": [],
      "collapsed_sections": [],
      "authorship_tag": "ABX9TyNiCQDIov6IrRX0nDBQ7yO8",
      "include_colab_link": true
    },
    "kernelspec": {
      "name": "python3",
      "display_name": "Python 3"
    },
    "language_info": {
      "name": "python"
    }
  },
  "cells": [
    {
      "cell_type": "markdown",
      "metadata": {
        "id": "view-in-github",
        "colab_type": "text"
      },
      "source": [
        "<a href=\"https://colab.research.google.com/github/sololzano/2021-Python-Optimization-Lab/blob/main/W4_NumPy_PyPlot_PSO.ipynb\" target=\"_parent\"><img src=\"https://colab.research.google.com/assets/colab-badge.svg\" alt=\"Open In Colab\"/></a>"
      ]
    },
    {
      "cell_type": "markdown",
      "metadata": {
        "id": "RiayCeFY4M_c"
      },
      "source": [
        "# NumPy and PyPlot"
      ]
    },
    {
      "cell_type": "code",
      "source": [
        "# Import libraries\n",
        "from matplotlib import pyplot as plt\n",
        "import numpy as np\n",
        "import time"
      ],
      "metadata": {
        "id": "cban-FSBQJgH"
      },
      "execution_count": 1,
      "outputs": []
    },
    {
      "cell_type": "code",
      "metadata": {
        "id": "Xb6wmuP47RE4"
      },
      "source": [
        "# Six Hump Camel Function\n",
        "def six_hump_camel(x1, x2):\n",
        "    a = (4 - 2.1*x1**2 + (1/3)*x1**4)*x1**2\n",
        "    b = x1*x2\n",
        "    c = (-4 + 4*x2**2)*x2**2\n",
        "    return a + b +c"
      ],
      "execution_count": 2,
      "outputs": []
    },
    {
      "cell_type": "code",
      "source": [
        "# Adjiman's Benchmark Function\n",
        "def adjiman(x1, x2):\n",
        "  a = np.cos(x1) * np.sin(x2)\n",
        "  b = x1 / (x2**2 + 1)\n",
        "  return (a - b)"
      ],
      "metadata": {
        "id": "B-__vv1ySZIZ"
      },
      "execution_count": 3,
      "outputs": []
    },
    {
      "cell_type": "code",
      "metadata": {
        "id": "Y7DD6l5rTi4S"
      },
      "source": [
        "def init_population(objective_function, dimensions, pop_size, x_min, x_max, v_max):\n",
        "  # Particles\n",
        "  x = np.random.uniform(x_min, x_max, (pop_size, dimensions))\n",
        "  \n",
        "  # Velocity\n",
        "  v = np.random.uniform(-v_max/3, v_max/3, (pop_size, dimensions))\n",
        "  \n",
        "  # Particle's best\n",
        "  pb = np.copy(x)\n",
        "\n",
        "  # Objective function\n",
        "  f = objective_function(x[:, 0], x[:, 1])\n",
        "  \n",
        "  # Best index\n",
        "  gb_idx = np.argmin(f)\n",
        "  \n",
        "  # Global best\n",
        "  gb = np.copy(x[gb_idx])\n",
        "\n",
        "  return x, v, pb, f, gb, gb_idx"
      ],
      "execution_count": 4,
      "outputs": []
    },
    {
      "cell_type": "code",
      "source": [
        "def init_population_for(objective_function, dimensions, pop_size, x_min, x_max, v_max):\n",
        "\n",
        "  # Define Particles, Velocities and Particles' best\n",
        "  x = np.zeros((pop_size, dimensions))\n",
        "  v = np.zeros((pop_size, dimensions))\n",
        "  pb = np.zeros((pop_size, dimensions))\n",
        "\n",
        "  # Assign random numbers to Particles and Velocities\n",
        "  for i in range(pop_size):\n",
        "    for j in range(dimensions):\n",
        "      x[i][j] = np.random.uniform(x_min, x_max)\n",
        "      v[i][j] = np.random.uniform(-v_max/3, v_max/3)\n",
        "    # Copy Particles to Particles' best\n",
        "    pb[i] = x[i]\n",
        "  \n",
        "  # Define global best as first particle and calculate objective\n",
        "  gb = pb[0]\n",
        "  fgb = objective_function(gb[0], gb[1])\n",
        "  gb_idx = 0\n",
        "\n",
        "  # Iterate through population\n",
        "  for i in range(pop_size):\n",
        "    # Calculate particle's i best objective function \n",
        "    fpb = objective_function(pb[i][0], pb[i][1])\n",
        "    if fpb < fgb:\n",
        "      gb = pb[i]\n",
        "      fgb = fpb\n",
        "      gb_idx = i\n",
        "  return x, v, pb, gb, gb_idx"
      ],
      "metadata": {
        "id": "LmeXrxu_qChv"
      },
      "execution_count": 5,
      "outputs": []
    },
    {
      "cell_type": "code",
      "source": [
        "# Generate initial population with for loop\n",
        "x, v, pb, gb, gb_idx = init_population_for(six_hump_camel, 2, 5, -3, 3, 3)\n",
        "gb"
      ],
      "metadata": {
        "id": "CkSGbwx1gJZu",
        "outputId": "6bec6fbb-896b-486e-9b38-dfed941e92cc",
        "colab": {
          "base_uri": "https://localhost:8080/"
        }
      },
      "execution_count": 6,
      "outputs": [
        {
          "output_type": "execute_result",
          "data": {
            "text/plain": [
              "array([1.94906136, 0.80518117])"
            ]
          },
          "metadata": {},
          "execution_count": 6
        }
      ]
    },
    {
      "cell_type": "code",
      "source": [
        "# Calculate time with magic commands, for loop\n",
        "%timeit _ = init_population_for(six_hump_camel, 2, 10000, -3, 3, 3)"
      ],
      "metadata": {
        "id": "W-c3tMLJq3f6",
        "outputId": "b9445063-6d66-4b50-fbc0-193d64455e22",
        "colab": {
          "base_uri": "https://localhost:8080/"
        }
      },
      "execution_count": 16,
      "outputs": [
        {
          "output_type": "stream",
          "name": "stdout",
          "text": [
            "10 loops, best of 5: 200 ms per loop\n"
          ]
        }
      ]
    },
    {
      "cell_type": "code",
      "source": [
        "%timeit _ = init_population(six_hump_camel, 2, 10000, -3, 3, 3)"
      ],
      "metadata": {
        "id": "s6PYN4Bzr1EI",
        "outputId": "e4068322-c916-4c5e-cc5a-37bd8a9476dd",
        "colab": {
          "base_uri": "https://localhost:8080/"
        }
      },
      "execution_count": 17,
      "outputs": [
        {
          "output_type": "stream",
          "name": "stdout",
          "text": [
            "1000 loops, best of 5: 1.42 ms per loop\n"
          ]
        }
      ]
    },
    {
      "cell_type": "code",
      "source": [
        "# Visualize particles and velocity vectors\n",
        "def plot_particles(particles, velocity):\n",
        "  return 0"
      ],
      "metadata": {
        "id": "_dqJL0tYeAhX"
      },
      "execution_count": null,
      "outputs": []
    },
    {
      "cell_type": "code",
      "source": [
        "# PSO\n",
        "def pso(objective_function, dimensions, pop_size, x_min, x_max, v_max, c1, c2, max_iter):\n",
        "  # Loop here\n",
        "  return 0"
      ],
      "metadata": {
        "id": "xL7BmXc_r60J"
      },
      "execution_count": null,
      "outputs": []
    },
    {
      "cell_type": "code",
      "source": [
        "plt.scatter(x[:, 0], x[:, 1])"
      ],
      "metadata": {
        "colab": {
          "base_uri": "https://localhost:8080/",
          "height": 282
        },
        "id": "PIE8m5GXV22Z",
        "outputId": "382cdb02-72f9-4997-c3cc-21450ba71ad8"
      },
      "execution_count": 19,
      "outputs": [
        {
          "output_type": "execute_result",
          "data": {
            "text/plain": [
              "<matplotlib.collections.PathCollection at 0x7f6857ee6850>"
            ]
          },
          "metadata": {},
          "execution_count": 19
        },
        {
          "output_type": "display_data",
          "data": {
            "image/png": "[encoded data removed]",
            "text/plain": [
              "<Figure size 432x288 with 1 Axes>"
            ]
          },
          "metadata": {
            "needs_background": "light"
          }
        }
      ]
    },
    {
      "cell_type": "code",
      "source": [
        ""
      ],
      "metadata": {
        "id": "-Pq0-V1dXbSI"
      },
      "execution_count": null,
      "outputs": []
    }
  ]
}